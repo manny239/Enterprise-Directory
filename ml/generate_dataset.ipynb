{
 "cells": [
  {
   "cell_type": "code",
   "execution_count": 7,
   "metadata": {},
   "outputs": [
    {
     "name": "stdout",
     "output_type": "stream",
     "text": [
      "Defaulting to user installation because normal site-packages is not writeable\n",
      "Requirement already satisfied: pandas in c:\\users\\wasadmin\\appdata\\roaming\\python\\python312\\site-packages (2.2.2)\n",
      "Requirement already satisfied: numpy>=1.26.0 in c:\\users\\wasadmin\\appdata\\roaming\\python\\python312\\site-packages (from pandas) (1.26.4)\n",
      "Requirement already satisfied: python-dateutil>=2.8.2 in c:\\users\\wasadmin\\appdata\\roaming\\python\\python312\\site-packages (from pandas) (2.9.0.post0)\n",
      "Requirement already satisfied: pytz>=2020.1 in c:\\users\\wasadmin\\appdata\\roaming\\python\\python312\\site-packages (from pandas) (2024.1)\n",
      "Requirement already satisfied: tzdata>=2022.7 in c:\\users\\wasadmin\\appdata\\roaming\\python\\python312\\site-packages (from pandas) (2024.1)\n",
      "Requirement already satisfied: six>=1.5 in c:\\users\\wasadmin\\appdata\\roaming\\python\\python312\\site-packages (from python-dateutil>=2.8.2->pandas) (1.16.0)\n",
      "Note: you may need to restart the kernel to use updated packages.\n"
     ]
    },
    {
     "name": "stderr",
     "output_type": "stream",
     "text": [
      "\n",
      "[notice] A new release of pip is available: 24.0 -> 25.1.1\n",
      "[notice] To update, run: python.exe -m pip install --upgrade pip\n"
     ]
    },
    {
     "name": "stdout",
     "output_type": "stream",
     "text": [
      "Defaulting to user installation because normal site-packages is not writeable\n",
      "Requirement already satisfied: Faker in c:\\users\\wasadmin\\appdata\\roaming\\python\\python312\\site-packages (37.4.0)\n",
      "Requirement already satisfied: tzdata in c:\\users\\wasadmin\\appdata\\roaming\\python\\python312\\site-packages (from Faker) (2024.1)\n",
      "Note: you may need to restart the kernel to use updated packages.\n"
     ]
    },
    {
     "name": "stderr",
     "output_type": "stream",
     "text": [
      "\n",
      "[notice] A new release of pip is available: 24.0 -> 25.1.1\n",
      "[notice] To update, run: python.exe -m pip install --upgrade pip\n"
     ]
    }
   ],
   "source": [
    "%pip install pandas\n",
    "%pip install Faker"
   ]
  },
  {
   "cell_type": "code",
   "execution_count": 8,
   "metadata": {},
   "outputs": [
    {
     "name": "stdout",
     "output_type": "stream",
     "text": [
      "Age\n",
      "Gender\n",
      "Education Level\n",
      "Job Title\n",
      "Years of Experience\n",
      "Salary\n",
      "Country\n",
      "Race\n",
      "Senior\n"
     ]
    }
   ],
   "source": [
    "import zipfile\n",
    "import pandas as pd\n",
    "from pathlib import Path\n",
    "import urllib.request\n",
    "\n",
    "SEED = 42\n",
    "\n",
    "def load_kaggle_data():\n",
    "    file_path = Path(\"./datasets/archive.zip\")\n",
    "    if not file_path.is_file():\n",
    "        Path(\"datasets\").mkdir(parents=True, exist_ok=True)\n",
    "        url = \"https://www.kaggle.com/api/v1/datasets/download/amirmahdiabbootalebi/salary-by-job-title-and-country\"\n",
    "        urllib.request.urlretrieve(url, file_path)\n",
    "    zf = zipfile.ZipFile(\"./datasets/archive.zip\")\n",
    "\n",
    "    return pd.read_csv(zf.open('Salary.csv'))\n",
    "\n",
    "kaggle_data = load_kaggle_data ()\n",
    "print (*kaggle_data.columns, sep='\\n')"
   ]
  },
  {
   "cell_type": "code",
   "execution_count": 9,
   "metadata": {},
   "outputs": [
    {
     "name": "stdout",
     "output_type": "stream",
     "text": [
      "salary\n",
      "work_location\n",
      "job_role\n",
      "name\n",
      "phone_number\n",
      "     salary work_location           job_role             name phone_number\n",
      "0   90000.0            UK  Software Engineer     Allison Hill   3494000332\n",
      "1   65000.0           USA       Data Analyst      Noah Rhodes   3885180614\n",
      "2  150000.0        Canada            Manager  Angie Henderson   9797910708\n",
      "3   60000.0           USA    Sales Associate    Daniel Wagner   7579040229\n",
      "4  200000.0           USA           Director  Cristian Santos   2402910568\n"
     ]
    }
   ],
   "source": [
    "from faker import Faker\n",
    "import random\n",
    "\n",
    "# Copy dataset and only take the columns we need\n",
    "dataset_clean = kaggle_data[[\"Salary\", \"Country\", \"Job Title\"]]\n",
    "\n",
    "# Rename the columns that were copied\n",
    "dataset_clean = dataset_clean.rename (columns={\"Salary\": \"salary\", \"Country\": \"work_location\", \"Job Title\": \"job_role\"})\n",
    "\n",
    "# Create mock data for the remaininig columns\n",
    "Faker.seed(SEED)\n",
    "faker = Faker()\n",
    "\n",
    "dataset_clean[\"name\"] = [faker.name() for i in range (len (dataset_clean))]\n",
    "dataset_clean[\"phone_number\"] = [f\"{random.randint(200, 999):03d}{random.randint(200, 999):03d}{random.randint(200, 999):04d}\" for i in range (len (dataset_clean))]\n",
    "\n",
    "print (*dataset_clean.columns, sep=\"\\n\")\n",
    "print (dataset_clean.head ())"
   ]
  },
  {
   "cell_type": "code",
   "execution_count": 11,
   "metadata": {},
   "outputs": [
    {
     "name": "stdout",
     "output_type": "stream",
     "text": [
      "Standard Output:\n",
      "\n",
      "Standard Error:\n",
      "2025-07-10T09:34:43.302-0400\tconnected to: mongodb://localhost:27017/employeeDB\n",
      "2025-07-10T09:34:43.315-0400\tdropping: employeeDB.employees\n",
      "2025-07-10T09:34:43.571-0400\t6684 document(s) imported successfully. 0 document(s) failed to import.\n",
      "\n"
     ]
    }
   ],
   "source": [
    "import subprocess\n",
    "\n",
    "# Save the data to the disk\n",
    "FILENAME = \"./datasets/dataset_clean\"\n",
    "dataset_clean.to_parquet (FILENAME + \".parquet\")\n",
    "dataset_clean.to_json (FILENAME + \".json\", orient='records', indent=4)\n",
    "\n",
    "# Save the data to the database\n",
    "try:\n",
    "    MONGO_URI = \"mongodb://localhost:27017/employeeDB\"\n",
    "    MONGO_COLLECTION = \"employees\"\n",
    "    result = subprocess.run([\"mongoimport\", \"--uri\", MONGO_URI, \"--collection\", MONGO_COLLECTION, \"--drop\", \"--file\", FILENAME + \".json\", \"--jsonArray\"], capture_output=True, text=True, check=True)\n",
    "\n",
    "    print(\"Standard Output:\")\n",
    "    print(result.stdout)\n",
    "    print(\"Standard Error:\")\n",
    "    print(result.stderr)\n",
    "except subprocess.CalledProcessError as e:\n",
    "    print(f\"Error executing command: {e}\")\n",
    "    print(f\"Return Code: {e.returncode}\")\n",
    "    print(f\"Output: {e.output}\")\n",
    "    print(f\"Error Output: {e.stderr}\")"
   ]
  }
 ],
 "metadata": {
  "kernelspec": {
   "display_name": "Python 3",
   "language": "python",
   "name": "python3"
  },
  "language_info": {
   "codemirror_mode": {
    "name": "ipython",
    "version": 3
   },
   "file_extension": ".py",
   "mimetype": "text/x-python",
   "name": "python",
   "nbconvert_exporter": "python",
   "pygments_lexer": "ipython3",
   "version": "3.12.3"
  }
 },
 "nbformat": 4,
 "nbformat_minor": 2
}
