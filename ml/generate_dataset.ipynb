{
 "cells": [
  {
   "cell_type": "code",
   "execution_count": 4,
   "metadata": {},
   "outputs": [
    {
     "name": "stdout",
     "output_type": "stream",
     "text": [
      "Age\n",
      "Gender\n",
      "Education Level\n",
      "Job Title\n",
      "Years of Experience\n",
      "Salary\n",
      "Country\n",
      "Race\n",
      "Senior\n"
     ]
    }
   ],
   "source": [
    "\n",
    "import zipfile\n",
    "import pandas as pd\n",
    "from pathlib import Path\n",
    "import urllib.request\n",
    "\n",
    "SEED = 42\n",
    "\n",
    "\n",
    "def load_kaggle_data():\n",
    "    file_path = Path(\"./datasets/archive.zip\")\n",
    "    if not file_path.is_file():\n",
    "        Path(\"datasets\").mkdir(parents=True, exist_ok=True)\n",
    "        url = \"https://www.kaggle.com/api/v1/datasets/download/amirmahdiabbootalebi/salary-by-job-title-and-country\"\n",
    "        urllib.request.urlretrieve(url, file_path)\n",
    "    zf = zipfile.ZipFile(\"./datasets/archive.zip\")\n",
    "\n",
    "    return pd.read_csv(zf.open('Salary.csv'))\n",
    "\n",
    "kaggle_data = load_kaggle_data ()\n",
    "print (*kaggle_data.columns, sep='\\n')"
   ]
  },
  {
   "cell_type": "code",
   "execution_count": 5,
   "metadata": {},
   "outputs": [
    {
     "name": "stdout",
     "output_type": "stream",
     "text": [
      "salary\n",
      "work_location\n",
      "job_role\n",
      "name\n",
      "phone_number\n",
      "     salary work_location           job_role             name phone_number\n",
      "0   90000.0            UK  Software Engineer     Allison Hill   6367040582\n",
      "1   65000.0           USA       Data Analyst      Noah Rhodes   4264170782\n",
      "2  150000.0        Canada            Manager  Angie Henderson   9722800202\n",
      "3   60000.0           USA    Sales Associate    Daniel Wagner   4206430694\n",
      "4  200000.0           USA           Director  Cristian Santos   3924710750\n"
     ]
    }
   ],
   "source": [
    "from faker import Faker\n",
    "import random\n",
    "\n",
    "# Copy dataset and only take the columns we need\n",
    "dataset_clean = kaggle_data[[\"Salary\", \"Country\", \"Job Title\"]]\n",
    "\n",
    "# Rename the columns that were copied\n",
    "dataset_clean = dataset_clean.rename (columns={\"Salary\": \"salary\", \"Country\": \"work_location\", \"Job Title\": \"job_role\"})\n",
    "\n",
    "# Create mock data for the remaininig columns\n",
    "Faker.seed(SEED)\n",
    "faker = Faker()\n",
    "\n",
    "dataset_clean[\"name\"] = [faker.name() for i in range (len (dataset_clean))]\n",
    "dataset_clean[\"phone_number\"] = [f\"{random.randint(200, 999):03d}{random.randint(200, 999):03d}{random.randint(200, 999):04d}\" for i in range (len (dataset_clean))]\n",
    "\n",
    "print (*dataset_clean.columns, sep=\"\\n\")\n",
    "print (dataset_clean.head ())"
   ]
  },
  {
   "cell_type": "code",
   "execution_count": 6,
   "metadata": {},
   "outputs": [],
   "source": [
    "# Save the data to the disk\n",
    "dataset_clean.to_parquet (\"./datasets/dataset_clean.parquet\")"
   ]
  }
 ],
 "metadata": {
  "kernelspec": {
   "display_name": "Python 3",
   "language": "python",
   "name": "python3"
  },
  "language_info": {
   "codemirror_mode": {
    "name": "ipython",
    "version": 3
   },
   "file_extension": ".py",
   "mimetype": "text/x-python",
   "name": "python",
   "nbconvert_exporter": "python",
   "pygments_lexer": "ipython3",
   "version": "3.12.3"
  }
 },
 "nbformat": 4,
 "nbformat_minor": 2
}
