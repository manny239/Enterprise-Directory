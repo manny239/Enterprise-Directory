{
 "cells": [
  {
   "cell_type": "code",
   "execution_count": 1,
   "metadata": {},
   "outputs": [
    {
     "name": "stdout",
     "output_type": "stream",
     "text": [
      "Defaulting to user installation because normal site-packages is not writeable\n",
      "Requirement already satisfied: pandas in c:\\users\\wasadmin\\appdata\\roaming\\python\\python312\\site-packages (2.2.2)\n",
      "Requirement already satisfied: numpy>=1.26.0 in c:\\users\\wasadmin\\appdata\\roaming\\python\\python312\\site-packages (from pandas) (1.26.4)\n",
      "Requirement already satisfied: python-dateutil>=2.8.2 in c:\\users\\wasadmin\\appdata\\roaming\\python\\python312\\site-packages (from pandas) (2.9.0.post0)\n",
      "Requirement already satisfied: pytz>=2020.1 in c:\\users\\wasadmin\\appdata\\roaming\\python\\python312\\site-packages (from pandas) (2024.1)\n",
      "Requirement already satisfied: tzdata>=2022.7 in c:\\users\\wasadmin\\appdata\\roaming\\python\\python312\\site-packages (from pandas) (2024.1)\n",
      "Requirement already satisfied: six>=1.5 in c:\\users\\wasadmin\\appdata\\roaming\\python\\python312\\site-packages (from python-dateutil>=2.8.2->pandas) (1.16.0)\n",
      "Note: you may need to restart the kernel to use updated packages.\n"
     ]
    },
    {
     "name": "stderr",
     "output_type": "stream",
     "text": [
      "\n",
      "[notice] A new release of pip is available: 24.0 -> 25.1.1\n",
      "[notice] To update, run: python.exe -m pip install --upgrade pip\n"
     ]
    },
    {
     "name": "stdout",
     "output_type": "stream",
     "text": [
      "Defaulting to user installation because normal site-packages is not writeable\n",
      "Requirement already satisfied: matplotlib in c:\\users\\wasadmin\\appdata\\roaming\\python\\python312\\site-packages (3.10.3)\n",
      "Requirement already satisfied: contourpy>=1.0.1 in c:\\users\\wasadmin\\appdata\\roaming\\python\\python312\\site-packages (from matplotlib) (1.3.2)\n",
      "Requirement already satisfied: cycler>=0.10 in c:\\users\\wasadmin\\appdata\\roaming\\python\\python312\\site-packages (from matplotlib) (0.12.1)\n",
      "Requirement already satisfied: fonttools>=4.22.0 in c:\\users\\wasadmin\\appdata\\roaming\\python\\python312\\site-packages (from matplotlib) (4.58.5)\n",
      "Requirement already satisfied: kiwisolver>=1.3.1 in c:\\users\\wasadmin\\appdata\\roaming\\python\\python312\\site-packages (from matplotlib) (1.4.8)\n",
      "Requirement already satisfied: numpy>=1.23 in c:\\users\\wasadmin\\appdata\\roaming\\python\\python312\\site-packages (from matplotlib) (1.26.4)\n",
      "Requirement already satisfied: packaging>=20.0 in c:\\users\\wasadmin\\appdata\\roaming\\python\\python312\\site-packages (from matplotlib) (24.0)\n",
      "Requirement already satisfied: pillow>=8 in c:\\users\\wasadmin\\appdata\\roaming\\python\\python312\\site-packages (from matplotlib) (11.3.0)\n",
      "Requirement already satisfied: pyparsing>=2.3.1 in c:\\users\\wasadmin\\appdata\\roaming\\python\\python312\\site-packages (from matplotlib) (3.2.3)\n",
      "Requirement already satisfied: python-dateutil>=2.7 in c:\\users\\wasadmin\\appdata\\roaming\\python\\python312\\site-packages (from matplotlib) (2.9.0.post0)\n",
      "Requirement already satisfied: six>=1.5 in c:\\users\\wasadmin\\appdata\\roaming\\python\\python312\\site-packages (from python-dateutil>=2.7->matplotlib) (1.16.0)\n",
      "Note: you may need to restart the kernel to use updated packages.\n"
     ]
    },
    {
     "name": "stderr",
     "output_type": "stream",
     "text": [
      "\n",
      "[notice] A new release of pip is available: 24.0 -> 25.1.1\n",
      "[notice] To update, run: python.exe -m pip install --upgrade pip\n"
     ]
    },
    {
     "name": "stdout",
     "output_type": "stream",
     "text": [
      "Defaulting to user installation because normal site-packages is not writeable\n",
      "Requirement already satisfied: seaborn in c:\\users\\wasadmin\\appdata\\roaming\\python\\python312\\site-packages (0.13.2)\n",
      "Requirement already satisfied: numpy!=1.24.0,>=1.20 in c:\\users\\wasadmin\\appdata\\roaming\\python\\python312\\site-packages (from seaborn) (1.26.4)\n",
      "Requirement already satisfied: pandas>=1.2 in c:\\users\\wasadmin\\appdata\\roaming\\python\\python312\\site-packages (from seaborn) (2.2.2)\n",
      "Requirement already satisfied: matplotlib!=3.6.1,>=3.4 in c:\\users\\wasadmin\\appdata\\roaming\\python\\python312\\site-packages (from seaborn) (3.10.3)\n",
      "Requirement already satisfied: contourpy>=1.0.1 in c:\\users\\wasadmin\\appdata\\roaming\\python\\python312\\site-packages (from matplotlib!=3.6.1,>=3.4->seaborn) (1.3.2)\n",
      "Requirement already satisfied: cycler>=0.10 in c:\\users\\wasadmin\\appdata\\roaming\\python\\python312\\site-packages (from matplotlib!=3.6.1,>=3.4->seaborn) (0.12.1)\n",
      "Requirement already satisfied: fonttools>=4.22.0 in c:\\users\\wasadmin\\appdata\\roaming\\python\\python312\\site-packages (from matplotlib!=3.6.1,>=3.4->seaborn) (4.58.5)\n",
      "Requirement already satisfied: kiwisolver>=1.3.1 in c:\\users\\wasadmin\\appdata\\roaming\\python\\python312\\site-packages (from matplotlib!=3.6.1,>=3.4->seaborn) (1.4.8)\n",
      "Requirement already satisfied: packaging>=20.0 in c:\\users\\wasadmin\\appdata\\roaming\\python\\python312\\site-packages (from matplotlib!=3.6.1,>=3.4->seaborn) (24.0)\n",
      "Requirement already satisfied: pillow>=8 in c:\\users\\wasadmin\\appdata\\roaming\\python\\python312\\site-packages (from matplotlib!=3.6.1,>=3.4->seaborn) (11.3.0)\n",
      "Requirement already satisfied: pyparsing>=2.3.1 in c:\\users\\wasadmin\\appdata\\roaming\\python\\python312\\site-packages (from matplotlib!=3.6.1,>=3.4->seaborn) (3.2.3)\n",
      "Requirement already satisfied: python-dateutil>=2.7 in c:\\users\\wasadmin\\appdata\\roaming\\python\\python312\\site-packages (from matplotlib!=3.6.1,>=3.4->seaborn) (2.9.0.post0)\n",
      "Requirement already satisfied: pytz>=2020.1 in c:\\users\\wasadmin\\appdata\\roaming\\python\\python312\\site-packages (from pandas>=1.2->seaborn) (2024.1)\n",
      "Requirement already satisfied: tzdata>=2022.7 in c:\\users\\wasadmin\\appdata\\roaming\\python\\python312\\site-packages (from pandas>=1.2->seaborn) (2024.1)\n",
      "Requirement already satisfied: six>=1.5 in c:\\users\\wasadmin\\appdata\\roaming\\python\\python312\\site-packages (from python-dateutil>=2.7->matplotlib!=3.6.1,>=3.4->seaborn) (1.16.0)\n",
      "Note: you may need to restart the kernel to use updated packages.\n"
     ]
    },
    {
     "name": "stderr",
     "output_type": "stream",
     "text": [
      "\n",
      "[notice] A new release of pip is available: 24.0 -> 25.1.1\n",
      "[notice] To update, run: python.exe -m pip install --upgrade pip\n"
     ]
    },
    {
     "name": "stdout",
     "output_type": "stream",
     "text": [
      "Defaulting to user installation because normal site-packages is not writeable\n",
      "Requirement already satisfied: scikit-learn in c:\\users\\wasadmin\\appdata\\roaming\\python\\python312\\site-packages (1.7.0)\n",
      "Requirement already satisfied: numpy>=1.22.0 in c:\\users\\wasadmin\\appdata\\roaming\\python\\python312\\site-packages (from scikit-learn) (1.26.4)\n",
      "Requirement already satisfied: scipy>=1.8.0 in c:\\users\\wasadmin\\appdata\\roaming\\python\\python312\\site-packages (from scikit-learn) (1.16.0)\n",
      "Requirement already satisfied: joblib>=1.2.0 in c:\\users\\wasadmin\\appdata\\roaming\\python\\python312\\site-packages (from scikit-learn) (1.5.1)\n",
      "Requirement already satisfied: threadpoolctl>=3.1.0 in c:\\users\\wasadmin\\appdata\\roaming\\python\\python312\\site-packages (from scikit-learn) (3.6.0)\n",
      "Note: you may need to restart the kernel to use updated packages.\n"
     ]
    },
    {
     "name": "stderr",
     "output_type": "stream",
     "text": [
      "\n",
      "[notice] A new release of pip is available: 24.0 -> 25.1.1\n",
      "[notice] To update, run: python.exe -m pip install --upgrade pip\n"
     ]
    },
    {
     "name": "stdout",
     "output_type": "stream",
     "text": [
      "Defaulting to user installation because normal site-packages is not writeable\n",
      "Requirement already satisfied: numpy in c:\\users\\wasadmin\\appdata\\roaming\\python\\python312\\site-packages (1.26.4)\n",
      "Note: you may need to restart the kernel to use updated packages.\n"
     ]
    },
    {
     "name": "stderr",
     "output_type": "stream",
     "text": [
      "\n",
      "[notice] A new release of pip is available: 24.0 -> 25.1.1\n",
      "[notice] To update, run: python.exe -m pip install --upgrade pip\n"
     ]
    }
   ],
   "source": [
    "%pip install pandas\n",
    "%pip install matplotlib\n",
    "%pip install seaborn\n",
    "%pip install scikit-learn\n",
    "%pip install numpy"
   ]
  },
  {
   "cell_type": "code",
   "execution_count": 2,
   "metadata": {},
   "outputs": [],
   "source": [
    "import pandas as pd\n",
    "import numpy as np\n",
    "\n",
    "SEED = 42\n",
    "\n",
    "np.random.seed (SEED)"
   ]
  },
  {
   "cell_type": "code",
   "execution_count": 6,
   "metadata": {},
   "outputs": [
    {
     "name": "stdout",
     "output_type": "stream",
     "text": [
      "X train\n",
      "<class 'pandas.core.frame.DataFrame'>\n",
      "Index: 5347 entries, 2908 to 860\n",
      "Data columns (total 4 columns):\n",
      " #   Column         Non-Null Count  Dtype \n",
      "---  ------         --------------  ----- \n",
      " 0   work_location  5347 non-null   object\n",
      " 1   job_role       5347 non-null   object\n",
      " 2   name           5347 non-null   object\n",
      " 3   phone_number   5347 non-null   object\n",
      "dtypes: object(4)\n",
      "memory usage: 208.9+ KB\n",
      "None\n",
      "\n",
      "y train\n",
      "<class 'pandas.core.series.Series'>\n",
      "Index: 5347 entries, 2908 to 860\n",
      "Series name: salary\n",
      "Non-Null Count  Dtype  \n",
      "--------------  -----  \n",
      "5347 non-null   float64\n",
      "dtypes: float64(1)\n",
      "memory usage: 83.5 KB\n",
      "None\n",
      "\n",
      "X test\n",
      "<class 'pandas.core.frame.DataFrame'>\n",
      "Index: 1337 entries, 3089 to 6652\n",
      "Data columns (total 4 columns):\n",
      " #   Column         Non-Null Count  Dtype \n",
      "---  ------         --------------  ----- \n",
      " 0   work_location  1337 non-null   object\n",
      " 1   job_role       1337 non-null   object\n",
      " 2   name           1337 non-null   object\n",
      " 3   phone_number   1337 non-null   object\n",
      "dtypes: object(4)\n",
      "memory usage: 52.2+ KB\n",
      "None\n",
      "\n",
      "y test\n",
      "<class 'pandas.core.series.Series'>\n",
      "Index: 1337 entries, 3089 to 6652\n",
      "Series name: salary\n",
      "Non-Null Count  Dtype  \n",
      "--------------  -----  \n",
      "1337 non-null   float64\n",
      "dtypes: float64(1)\n",
      "memory usage: 20.9 KB\n",
      "None\n",
      "\n"
     ]
    }
   ],
   "source": [
    "from sklearn.model_selection import train_test_split\n",
    "\n",
    "# Load the dataset\n",
    "dataset_orig = pd.read_parquet (\"./datasets/dataset_clean.parquet\")\n",
    "\n",
    "# Split the dataset\n",
    "X = dataset_orig.drop(columns=['salary'], axis=1)\n",
    "y = dataset_orig['salary']\n",
    "X_train, X_test, y_train, y_test = train_test_split (X,y,test_size=0.2, random_state=SEED)\n",
    "\n",
    "print (\"X train\")\n",
    "print (X_train.info ())\n",
    "print ()\n",
    "\n",
    "print (\"y train\")\n",
    "print (y_train.info ())\n",
    "print ()\n",
    "\n",
    "print (\"X test\")\n",
    "print (X_test.info ())\n",
    "print ()\n",
    "\n",
    "print (\"y test\")\n",
    "print (y_test.info ())\n",
    "print ()"
   ]
  },
  {
   "cell_type": "code",
   "execution_count": 11,
   "metadata": {},
   "outputs": [
    {
     "name": "stdout",
     "output_type": "stream",
     "text": [
      "cat_onehot__work_location_Australia\n",
      "cat_onehot__work_location_Canada\n",
      "cat_onehot__work_location_China\n",
      "cat_onehot__work_location_UK\n",
      "cat_onehot__work_location_USA\n",
      "cat_onehot__job_role_Account Executive\n",
      "cat_onehot__job_role_Account Manager\n",
      "cat_onehot__job_role_Accountant\n",
      "cat_onehot__job_role_Administrative Assistant\n",
      "cat_onehot__job_role_Advertising Coordinator\n",
      "cat_onehot__job_role_Back end Developer\n",
      "cat_onehot__job_role_Business Analyst\n",
      "cat_onehot__job_role_Business Development Associate\n",
      "cat_onehot__job_role_Business Development Manager\n",
      "cat_onehot__job_role_Business Intelligence Analyst\n",
      "cat_onehot__job_role_Business Operations Analyst\n",
      "cat_onehot__job_role_CEO\n",
      "cat_onehot__job_role_Chief Data Officer\n",
      "cat_onehot__job_role_Chief Technology Officer\n",
      "cat_onehot__job_role_Consultant\n",
      "cat_onehot__job_role_Content Marketing Manager\n",
      "cat_onehot__job_role_Copywriter\n",
      "cat_onehot__job_role_Creative Director\n",
      "cat_onehot__job_role_Customer Service Manager\n",
      "cat_onehot__job_role_Customer Service Rep\n",
      "cat_onehot__job_role_Customer Service Representative\n",
      "cat_onehot__job_role_Customer Success Manager\n",
      "cat_onehot__job_role_Customer Success Rep\n",
      "cat_onehot__job_role_Customer Support Specialist\n",
      "cat_onehot__job_role_Data Analyst\n",
      "cat_onehot__job_role_Data Engineer\n",
      "cat_onehot__job_role_Data Entry Clerk\n",
      "cat_onehot__job_role_Data Scientist\n",
      "cat_onehot__job_role_Delivery Driver\n",
      "cat_onehot__job_role_Designer\n",
      "cat_onehot__job_role_Developer\n",
      "cat_onehot__job_role_Digital Content Producer\n",
      "cat_onehot__job_role_Digital Marketing Manager\n",
      "cat_onehot__job_role_Digital Marketing Specialist\n",
      "cat_onehot__job_role_Director\n",
      "cat_onehot__job_role_Director of Business Development\n",
      "cat_onehot__job_role_Director of Data Science\n",
      "cat_onehot__job_role_Director of Engineering\n",
      "cat_onehot__job_role_Director of Finance\n",
      "cat_onehot__job_role_Director of HR\n",
      "cat_onehot__job_role_Director of Human Capital\n",
      "cat_onehot__job_role_Director of Human Resources\n",
      "cat_onehot__job_role_Director of Marketing\n",
      "cat_onehot__job_role_Director of Operations\n",
      "cat_onehot__job_role_Director of Product Management\n",
      "cat_onehot__job_role_Director of Sales\n",
      "cat_onehot__job_role_Director of Sales and Marketing\n",
      "cat_onehot__job_role_Engineer\n",
      "cat_onehot__job_role_Event Coordinator\n",
      "cat_onehot__job_role_Financial Advisor\n",
      "cat_onehot__job_role_Financial Analyst\n",
      "cat_onehot__job_role_Financial Manager\n",
      "cat_onehot__job_role_Front End Developer\n",
      "cat_onehot__job_role_Front end Developer\n",
      "cat_onehot__job_role_Full Stack Engineer\n",
      "cat_onehot__job_role_Graphic Designer\n",
      "cat_onehot__job_role_HR Coordinator\n",
      "cat_onehot__job_role_HR Generalist\n",
      "cat_onehot__job_role_HR Manager\n",
      "cat_onehot__job_role_HR Specialist\n",
      "cat_onehot__job_role_Help Desk Analyst\n",
      "cat_onehot__job_role_Human Resources Coordinator\n",
      "cat_onehot__job_role_Human Resources Director\n",
      "cat_onehot__job_role_Human Resources Manager\n",
      "cat_onehot__job_role_Human Resources Specialist\n",
      "cat_onehot__job_role_IT Consultant\n",
      "cat_onehot__job_role_IT Manager\n",
      "cat_onehot__job_role_IT Project Manager\n",
      "cat_onehot__job_role_IT Support\n",
      "cat_onehot__job_role_IT Support Specialist\n",
      "cat_onehot__job_role_Juniour HR Coordinator\n",
      "cat_onehot__job_role_Juniour HR Generalist\n",
      "cat_onehot__job_role_Manager\n",
      "cat_onehot__job_role_Marketing Analyst\n",
      "cat_onehot__job_role_Marketing Coordinator\n",
      "cat_onehot__job_role_Marketing Director\n",
      "cat_onehot__job_role_Marketing Manager\n",
      "cat_onehot__job_role_Marketing Specialist\n",
      "cat_onehot__job_role_Network Engineer\n",
      "cat_onehot__job_role_Office Manager\n",
      "cat_onehot__job_role_Operations Analyst\n",
      "cat_onehot__job_role_Operations Coordinator\n",
      "cat_onehot__job_role_Operations Director\n",
      "cat_onehot__job_role_Operations Manager\n",
      "cat_onehot__job_role_Principal Engineer\n",
      "cat_onehot__job_role_Principal Scientist\n",
      "cat_onehot__job_role_Product Designer\n",
      "cat_onehot__job_role_Product Development Manager\n",
      "cat_onehot__job_role_Product Manager\n",
      "cat_onehot__job_role_Product Marketing Manager\n",
      "cat_onehot__job_role_Project Coordinator\n",
      "cat_onehot__job_role_Project Engineer\n",
      "cat_onehot__job_role_Project Manager\n",
      "cat_onehot__job_role_Public Relations Manager\n",
      "cat_onehot__job_role_Quality Assurance Analyst\n",
      "cat_onehot__job_role_Receptionist\n",
      "cat_onehot__job_role_Recruiter\n",
      "cat_onehot__job_role_Research Director\n",
      "cat_onehot__job_role_Research Scientist\n",
      "cat_onehot__job_role_Researcher\n",
      "cat_onehot__job_role_Sales Associate\n",
      "cat_onehot__job_role_Sales Director\n",
      "cat_onehot__job_role_Sales Executive\n",
      "cat_onehot__job_role_Sales Manager\n",
      "cat_onehot__job_role_Sales Operations Manager\n",
      "cat_onehot__job_role_Sales Representative\n",
      "cat_onehot__job_role_Scientist\n",
      "cat_onehot__job_role_Social Media Man\n",
      "cat_onehot__job_role_Social Media Manager\n",
      "cat_onehot__job_role_Social Media Specialist\n",
      "cat_onehot__job_role_Software Architect\n",
      "cat_onehot__job_role_Software Developer\n",
      "cat_onehot__job_role_Software Engineer\n",
      "cat_onehot__job_role_Software Engineer Manager\n",
      "cat_onehot__job_role_Software Manager\n",
      "cat_onehot__job_role_Software Project Manager\n",
      "cat_onehot__job_role_Strategy Consultant\n",
      "cat_onehot__job_role_Supply Chain Analyst\n",
      "cat_onehot__job_role_Supply Chain Manager\n",
      "cat_onehot__job_role_Technical Recruiter\n",
      "cat_onehot__job_role_Technical Support Specialist\n",
      "cat_onehot__job_role_Technical Writer\n",
      "cat_onehot__job_role_Training Specialist\n",
      "cat_onehot__job_role_UX Designer\n",
      "cat_onehot__job_role_UX Researcher\n",
      "cat_onehot__job_role_VP of Finance\n",
      "cat_onehot__job_role_VP of Operations\n",
      "cat_onehot__job_role_Web Designer\n",
      "cat_onehot__job_role_Web Developer\n"
     ]
    }
   ],
   "source": [
    "from sklearn.compose import ColumnTransformer\n",
    "from sklearn.preprocessing import OneHotEncoder\n",
    "\n",
    "# Create data preprocessing pipeline\n",
    "preprocessing = ColumnTransformer([\n",
    "    (\"cat_onehot\", OneHotEncoder(handle_unknown=\"error\"), [\"work_location\", \"job_role\"]),\n",
    "], remainder=\"drop\")\n",
    "\n",
    "dataset_trans = pd.DataFrame(preprocessing.fit_transform (dataset_orig).toarray (), columns=preprocessing.get_feature_names_out())\n",
    "print (*dataset_trans.columns, sep=\"\\n\")"
   ]
  },
  {
   "cell_type": "code",
   "execution_count": null,
   "metadata": {},
   "outputs": [],
   "source": [
    "from sklearn.linear_model import LinearRegression\n",
    "from sklearn.pipeline import Pipeline\n",
    "\n",
    "# Create model pipeline\n",
    "model = pipeline = Pipeline([\n",
    "    ('data_preprocessing', preprocessing),\n",
    "    ('random_forest', LinearRegression(random_state=SEED))\n",
    "])"
   ]
  },
  {
   "cell_type": "code",
   "execution_count": null,
   "metadata": {},
   "outputs": [],
   "source": []
  }
 ],
 "metadata": {
  "kernelspec": {
   "display_name": "Python 3",
   "language": "python",
   "name": "python3"
  },
  "language_info": {
   "codemirror_mode": {
    "name": "ipython",
    "version": 3
   },
   "file_extension": ".py",
   "mimetype": "text/x-python",
   "name": "python",
   "nbconvert_exporter": "python",
   "pygments_lexer": "ipython3",
   "version": "3.12.3"
  }
 },
 "nbformat": 4,
 "nbformat_minor": 2
}
